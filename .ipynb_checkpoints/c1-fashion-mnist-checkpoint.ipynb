{
 "cells": [
  {
   "cell_type": "markdown",
   "metadata": {},
   "source": [
    "## Read Data"
   ]
  },
  {
   "cell_type": "code",
   "execution_count": 1,
   "metadata": {},
   "outputs": [],
   "source": [
    "# Provided code to read dataset for the Kaggle competition\n",
    "import pandas as pd\n",
    "from sklearn.model_selection import train_test_split\n",
    "\n",
    "### read dataset\n",
    "train = pd.read_csv(\"../input/fashion-mnist_train.csv\")\n",
    "train_x = train[list(train.columns)[1:]].values\n",
    "train_y = train['label'].values\n",
    "\n",
    "## normalize and reshape the predictors\n",
    "train_x = train_x / 255\n",
    "\n",
    "## create train and validation datasets\n",
    "train_x, val_x, train_y, val_y = train_test_split(train_x, train_y, test_size=0.2)\n",
    "\n",
    "## reshape the inputs\n",
    "train_x = train_x.reshape(-1, 784)\n",
    "val_x = val_x.reshape(-1, 784)"
   ]
  },
  {
   "cell_type": "markdown",
   "metadata": {},
   "source": [
    "## Train Model"
   ]
  },
  {
   "cell_type": "code",
   "execution_count": 8,
   "metadata": {},
   "outputs": [
    {
     "data": {
      "text/plain": [
       "RandomForestClassifier(bootstrap=True, class_weight=None, criterion='entropy',\n",
       "            max_depth=None, max_features='auto', max_leaf_nodes=None,\n",
       "            min_impurity_decrease=0.0, min_impurity_split=None,\n",
       "            min_samples_leaf=1, min_samples_split=2,\n",
       "            min_weight_fraction_leaf=0.0, n_estimators=100, n_jobs=-1,\n",
       "            oob_score=False, random_state=0, verbose=0, warm_start=False)"
      ]
     },
     "execution_count": 8,
     "metadata": {},
     "output_type": "execute_result"
    }
   ],
   "source": [
    "# Mostly just looked through the sklearn docs to see what was available.\n",
    "# https://scikit-learn.org/stable/supervised_learning.html#supervised-learning\n",
    "\n",
    "# from sklearn.tree import DecisionTreeRegressor\n",
    "# from sklearn.linear_model import SGDRegressor\n",
    "# from sklearn.ensemble import RandomForestRegressor\n",
    "# from sklearn.neighbors import KNeighborsRegressor\n",
    "# from sklearn.neighbors import KNeighborsClassifier\n",
    "# from sklearn.ensemble import AdaBoostClassifier\n",
    "# from sklearn.neural_network import MLPClassifier\n",
    "from sklearn.ensemble import RandomForestClassifier\n",
    "\n",
    "# model = DecisionTreeRegressor(random_state=1, criterion='friedman_mse')\n",
    "# model = SGDRegressor(max_iter=1000, tol=1e-3, loss='huber')\n",
    "# model = RandomForestRegressor(random_state=0, n_estimators=100)\n",
    "# model = KNeighborsRegressor(weights='uniform', algorithm='kd_tree', n_jobs=-1) # 83%\n",
    "# model = KNeighborsClassifier(weights='uniform', n_jobs=-1) # 83%\n",
    "# model = AdaBoostClassifier() # 57%\n",
    "# model = MLPClassifier(verbose=True) # 88%\n",
    "model = RandomForestClassifier(random_state=0, n_estimators=100, n_jobs=-1, criterion='entropy',\n",
    "                              max_features='auto') # 88%\n",
    "\n",
    "model.fit(train_x, train_y)"
   ]
  },
  {
   "cell_type": "markdown",
   "metadata": {},
   "source": [
    "## Predict & Check Accuracy from Training Data Split"
   ]
  },
  {
   "cell_type": "code",
   "execution_count": 9,
   "metadata": {},
   "outputs": [
    {
     "name": "stdout",
     "output_type": "stream",
     "text": [
      "Accuracy is : 87.80%\n"
     ]
    }
   ],
   "source": [
    "from sklearn.metrics import accuracy_score\n",
    "\n",
    "predicted_y = model.predict(val_x)\n",
    "\n",
    "print('Accuracy is : {0:.2f}%'.format(accuracy_score(val_y, predicted_y) * 100))"
   ]
  },
  {
   "cell_type": "markdown",
   "metadata": {},
   "source": [
    "## Predict & Check Accuracy from Test Data"
   ]
  },
  {
   "cell_type": "code",
   "execution_count": 14,
   "metadata": {},
   "outputs": [
    {
     "name": "stdout",
     "output_type": "stream",
     "text": [
      "Accuracy is : 88.19%\n"
     ]
    }
   ],
   "source": [
    "from sklearn.metrics import accuracy_score\n",
    "\n",
    "### read dataset\n",
    "test = pd.read_csv(\"../input/fashion-mnist_test.csv\")\n",
    "test_x = test[list(test.columns)[1:]].values\n",
    "test_y = test['label'].values\n",
    "## normalize and reshape the predictors\n",
    "test_x = test_x / 255\n",
    "## reshape the inputs\n",
    "test_x = test_x.reshape(-1, 784)\n",
    "\n",
    "predicted_y = model.predict(test_x)\n",
    "\n",
    "print('Accuracy is : {0:.2f}%'.format(accuracy_score(test_y, predicted_y) * 100))"
   ]
  },
  {
   "cell_type": "markdown",
   "metadata": {},
   "source": [
    "## Save Predictions to File"
   ]
  },
  {
   "cell_type": "code",
   "execution_count": 15,
   "metadata": {},
   "outputs": [],
   "source": [
    "# Based on:\n",
    "# https://stackoverflow.com/questions/52411992/how-to-produce-a-kaggle-submission-csv-file-with-specific-entries\n",
    "# https://pandas.pydata.org/pandas-docs/stable/reference/api/pandas.DataFrame.to_csv.html\n",
    "\n",
    "# Assumes predicted_y has been defined in a prior cell.\n",
    "submission = pd.DataFrame({'Label': predicted_y})\n",
    "submission.to_csv('../submission.csv', index=True, index_label='ID')"
   ]
  }
 ],
 "metadata": {
  "kernelspec": {
   "display_name": "Python 3",
   "language": "python",
   "name": "python3"
  },
  "language_info": {
   "codemirror_mode": {
    "name": "ipython",
    "version": 3
   },
   "file_extension": ".py",
   "mimetype": "text/x-python",
   "name": "python",
   "nbconvert_exporter": "python",
   "pygments_lexer": "ipython3",
   "version": "3.7.1"
  }
 },
 "nbformat": 4,
 "nbformat_minor": 2
}
